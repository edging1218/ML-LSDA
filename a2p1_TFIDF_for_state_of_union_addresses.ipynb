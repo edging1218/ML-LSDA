{
 "cells": [
  {
   "cell_type": "markdown",
   "metadata": {},
   "source": [
    "## Vecotr Space Model for the State of Union Addresses"
   ]
  },
  {
   "cell_type": "code",
   "execution_count": 38,
   "metadata": {
    "collapsed": false
   },
   "outputs": [
    {
     "name": "stdout",
     "output_type": "stream",
     "text": [
      "<class 'pyspark.sql.dataframe.DataFrame'>\n",
      "+--------------------+--------------------+----+\n",
      "|           president|                text|year|\n",
      "+--------------------+--------------------+----+\n",
      "|        James Monroe| Fellow-Citizens ...|1821|\n",
      "|    William McKinley| To the Senate an...|1897|\n",
      "|Dwight D. Eisenhower|[Delivered in per...|1960|\n",
      "|     Calvin Coolidge|Since the close o...|1923|\n",
      "|       James Madison| Fellow-Citizens ...|1816|\n",
      "|    Grover Cleveland| To the Congress ...|1886|\n",
      "|   John Quincy Adams| Fellow Citizens ...|1827|\n",
      "|  Theodore Roosevelt| To the Senate an...|1905|\n",
      "|   Lyndon B. Johnson|Mr. Speaker, Mr. ...|1965|\n",
      "|       James K. Polk| Fellow-Citizens ...|1848|\n",
      "|      Woodrow Wilson|Gentlemen of the ...|1913|\n",
      "|Dwight D. Eisenhower|[Delivered in per...|1955|\n",
      "|         George Bush|Mr. President and...|1991|\n",
      "|     Franklin Pierce| Fellow-Citizens ...|1856|\n",
      "|Franklin D. Roose...|To the Congress:\r",
      "...|1944|\n",
      "|   Lyndon B. Johnson|[Delivered in per...|1968|\n",
      "|      Andrew Johnson| Fellow-Citizens ...|1867|\n",
      "|      Woodrow Wilson|GENTLEMEN OF THE ...|1914|\n",
      "|      Harry S Truman|[As delivered in ...|1950|\n",
      "|      James Buchanan|Fellow-Citizens o...|1860|\n",
      "+--------------------+--------------------+----+\n",
      "only showing top 20 rows\n",
      "\n"
     ]
    }
   ],
   "source": [
    "from pyspark.sql import SparkSession\n",
    "\n",
    "spark  = SparkSession.builder.master('local').appName('SOU').getOrCreate()\n",
    "df = spark.read.json('/project/cmsc25025/sou/speeches.json')\n",
    "print type(df)\n",
    "df.show()"
   ]
  },
  {
   "cell_type": "markdown",
   "metadata": {},
   "source": [
    "# (a) Compute TF-IDF vectors\n",
    "## 1. build vocabulary\n",
    "(throw out the 20 most common words and words that appear fewer than 50 times)"
   ]
  },
  {
   "cell_type": "code",
   "execution_count": 39,
   "metadata": {
    "collapsed": false
   },
   "outputs": [],
   "source": [
    "import matplotlib.pyplot as plt\n",
    "import numpy as np\n",
    "import string\n",
    "from collections import Counter\n",
    "import math\n",
    "from pprint import pprint\n",
    "import re\n",
    "\n",
    "%matplotlib inline\n",
    "def clean(x):\n",
    "    # clean text: remove punctuation and split\n",
    "    # encode to UTF-8, convert to lowercase and translate all hyphens and punctuation to whitespace\n",
    "    s = x.lower().encode('utf-8').translate(string.maketrans(\"\",\"\"), string.punctuation)\n",
    "    # replace \\r\\n\n",
    "    s = re.sub('(\\r\\n)+',' ',s)\n",
    "    # replace whitespace substrings with one whitespace and remove leading/trailing whitespaces\n",
    "    s = re.sub(' +',' ',s.strip())\n",
    "    return s.split(' ')\n",
    "\n",
    "clean_df = df.rdd.map(lambda x: (x['year'], x['president'], clean(x['text']))).cache()\n",
    "# count frequency of each word\n",
    "word_counts = clean_df.flatMap(lambda x: x[2]).map(lambda x: (x, 1)).reduceByKey(lambda a, b: a+b)\n",
    "# remove the 20 most frequent words\n",
    "vocab1 = word_counts.sortBy(lambda x: x[1], ascending=False).zipWithIndex().filter(lambda x: x[1]>=20).keys().keys()\n",
    "# remove words appear in less than 50 documents\n",
    "idf = clean_df.flatMap(lambda x: list(set(x[2]))).map(lambda x: (x, 1)).reduceByKey(lambda a, b:a+b).filter(lambda x: x[1] > 50)\n",
    "# Use intersection and get the final vocabulary\n",
    "vocab = vocab1.intersection(idf.keys())\n"
   ]
  },
  {
   "cell_type": "markdown",
   "metadata": {},
   "source": [
    "## 2. compute TF-IDF vectors"
   ]
  },
  {
   "cell_type": "code",
   "execution_count": 40,
   "metadata": {
    "collapsed": false
   },
   "outputs": [],
   "source": [
    "from __future__ import division\n",
    "D = clean_df.count()\n",
    "data = clean_df.collect()\n",
    "def get_tf_idf_vec(words):\n",
    "    #calculate the tf_idf vector\n",
    "    #tf is the word counts in certain documents\n",
    "    tf = vocab.map(lambda w: (w, words.count(w)))\n",
    "    #idf records the word counts across all the docuemtns\n",
    "    vec = tf.join(idf).map(lambda x: x[1][0] * np.log(D / x[1][1])).collect()\n",
    "    return vec\n",
    "\n"
   ]
  },
  {
   "cell_type": "code",
   "execution_count": 42,
   "metadata": {
    "collapsed": false
   },
   "outputs": [],
   "source": [
    "tf_idf = spark.sparkContext.parallelize([(x[0], x[1], get_tf_idf_vec(x[2])) for x in data])"
   ]
  },
  {
   "cell_type": "markdown",
   "metadata": {},
   "source": [
    "# (b) Similarity measure"
   ]
  },
  {
   "cell_type": "code",
   "execution_count": 56,
   "metadata": {
    "collapsed": false
   },
   "outputs": [],
   "source": [
    "def normalize(vec):\n",
    "    length = np.linalg.norm(vec)\n",
    "    return vec / length\n",
    "def cal_sim(vec1, vec2):\n",
    "    return vec1.dot(vec2)\n",
    "tf_idf = tf_idf.map(lambda x: (x[0], x[1], normalize(x[2])))\n",
    "pairs = tf_idf.cartesian(tf_idf).filter(lambda x: x[0][0] < x[1][0])\n",
    "pairs = pairs.map(lambda x: (x[0][0], x[1][0], x[0][1], x[1][1], float(cal_sim(x[0][2], x[1][2]))))"
   ]
  },
  {
   "cell_type": "code",
   "execution_count": 57,
   "metadata": {
    "collapsed": false
   },
   "outputs": [
    {
     "name": "stdout",
     "output_type": "stream",
     "text": [
      "+-----+-----+------------+--------------------+-------------------+\n",
      "|year1|year2|  president1|          president2|                sim|\n",
      "+-----+-----+------------+--------------------+-------------------+\n",
      "| 1821| 1897|James Monroe|    William McKinley|0.31223824730188926|\n",
      "| 1821| 1960|James Monroe|Dwight D. Eisenhower|0.11475700502896191|\n",
      "| 1821| 1923|James Monroe|     Calvin Coolidge|0.22205693301902685|\n",
      "| 1821| 1886|James Monroe|    Grover Cleveland|0.34439513649206693|\n",
      "| 1821| 1827|James Monroe|   John Quincy Adams| 0.3967445272883114|\n",
      "| 1821| 1905|James Monroe|  Theodore Roosevelt|0.25781925739873673|\n",
      "| 1821| 1965|James Monroe|   Lyndon B. Johnson|0.05965864430803461|\n",
      "| 1821| 1848|James Monroe|       James K. Polk|0.36518555977298905|\n",
      "| 1821| 1913|James Monroe|      Woodrow Wilson| 0.1453555579416126|\n",
      "| 1821| 1955|James Monroe|Dwight D. Eisenhower| 0.1021509343517665|\n",
      "+-----+-----+------------+--------------------+-------------------+\n",
      "only showing top 10 rows\n",
      "\n"
     ]
    }
   ],
   "source": [
    "sims = spark.createDataFrame(pairs, [\"year1\",\"year2\",\"president1\",\"president2\",\"sim\"])\n",
    "sims.show(n=10)"
   ]
  },
  {
   "cell_type": "code",
   "execution_count": 52,
   "metadata": {
    "collapsed": false
   },
   "outputs": [
    {
     "name": "stdout",
     "output_type": "stream",
     "text": [
      "+-----+-----+--------------------+-------------------+------------------+\n",
      "|year1|year2|          president1|         president2|               sim|\n",
      "+-----+-----+--------------------+-------------------+------------------+\n",
      "| 1961| 1981|Dwight D. Eisenhower|       Jimmy Carter|0.6857245408422247|\n",
      "| 1889| 1885|   Benjamin Harrison|   Grover Cleveland|0.6752323398820435|\n",
      "| 2010| 1994|        Barack Obama| William J. Clinton| 0.665564842370267|\n",
      "| 1956| 1981|Dwight D. Eisenhower|       Jimmy Carter|0.6609498458826516|\n",
      "| 1955| 1981|Dwight D. Eisenhower|       Jimmy Carter|0.6570077627127071|\n",
      "| 1885| 1877|    Grover Cleveland|Rutherford B. Hayes|0.6542466836961661|\n",
      "| 1836| 1839|      Andrew Jackson|   Martin Van Buren|0.6490040144255912|\n",
      "| 2004| 1998|      George W. Bush| William J. Clinton|0.6472638061326981|\n",
      "| 1992| 1995|         George Bush| William J. Clinton|0.6443849085874218|\n",
      "| 2010| 1995|        Barack Obama| William J. Clinton|0.6438262453966554|\n",
      "+-----+-----+--------------------+-------------------+------------------+\n",
      "only showing top 10 rows\n",
      "\n"
     ]
    }
   ],
   "source": [
    "# 10 most similar speeches from different presidents\n",
    "sims.filter(\"president1 != president2\").sort(\"sim\", ascending=False).show(n=10)"
   ]
  },
  {
   "cell_type": "code",
   "execution_count": 58,
   "metadata": {
    "collapsed": false
   },
   "outputs": [
    {
     "name": "stdout",
     "output_type": "stream",
     "text": [
      "+-----+-----+-------------------+-------------------+------------------+\n",
      "|year1|year2|         president1|         president2|               sim|\n",
      "+-----+-----+-------------------+-------------------+------------------+\n",
      "| 2012| 2013|       Barack Obama|       Barack Obama|0.9854545803054573|\n",
      "| 1846| 1847|      James K. Polk|      James K. Polk|0.8059963426709121|\n",
      "| 1899| 1900|   William McKinley|   William McKinley|0.7538458493976826|\n",
      "| 1998| 1999| William J. Clinton| William J. Clinton|0.7504868525514592|\n",
      "| 1998| 2000| William J. Clinton| William J. Clinton|0.7498147630134475|\n",
      "| 1997| 1998| William J. Clinton| William J. Clinton| 0.748770439121618|\n",
      "| 2010| 2012|       Barack Obama|       Barack Obama|0.7398699727437701|\n",
      "| 2011| 2012|       Barack Obama|       Barack Obama|0.7397177538615023|\n",
      "| 1910| 1912|William Howard Taft|William Howard Taft|0.7383482337778927|\n",
      "| 1994| 1995| William J. Clinton| William J. Clinton|0.7365469687090234|\n",
      "+-----+-----+-------------------+-------------------+------------------+\n",
      "only showing top 10 rows\n",
      "\n"
     ]
    }
   ],
   "source": [
    "# 10 most similar speeches from same presidents\n",
    "sims.filter(\"president1 == president2\").sort(\"sim\", ascending=False).show(n=10)"
   ]
  },
  {
   "cell_type": "code",
   "execution_count": 64,
   "metadata": {
    "collapsed": false
   },
   "outputs": [
    {
     "name": "stdout",
     "output_type": "stream",
     "text": [
      "+-------------------+-------------------+------------------+\n",
      "|         president1|         president2|          avg(sim)|\n",
      "+-------------------+-------------------+------------------+\n",
      "| William J. Clinton|       Barack Obama|0.5571058679188831|\n",
      "|     Zachary Taylor|   Millard Fillmore|0.5526382143920262|\n",
      "|Rutherford B. Hayes|  Benjamin Harrison|0.5491956198412178|\n",
      "|Rutherford B. Hayes|  Chester A. Arthur|0.5441774097979725|\n",
      "|  Chester A. Arthur|  Benjamin Harrison|0.5413166449996004|\n",
      "| Theodore Roosevelt|William Howard Taft|0.5253551046466506|\n",
      "|  Benjamin Harrison|   Grover Cleveland|0.5227429995773583|\n",
      "|     Zachary Taylor|     James Buchanan|0.5188822243064843|\n",
      "|      James K. Polk|     Zachary Taylor|0.5179350678439684|\n",
      "|        George Bush| William J. Clinton|0.5147944112144421|\n",
      "+-------------------+-------------------+------------------+\n",
      "only showing top 10 rows\n",
      "\n"
     ]
    }
   ],
   "source": [
    "#10 most similar presidents\n",
    "sims.filter(\"president1 != president2\").groupBy(['president1', 'president2']).agg({'sim': 'mean'}).orderBy('avg(sim)', ascending = False).show(n=10)"
   ]
  },
  {
   "cell_type": "markdown",
   "metadata": {},
   "source": [
    "# (c) K-means clustering\n",
    "## k = 3 and K = 5"
   ]
  },
  {
   "cell_type": "code",
   "execution_count": 72,
   "metadata": {
    "collapsed": false
   },
   "outputs": [
    {
     "data": {
      "image/png": "[encoded data removed]",
      "text/plain": [
       "<matplotlib.figure.Figure at 0x7f143ab04090>"
      ]
     },
     "metadata": {},
     "output_type": "display_data"
    }
   ],
   "source": [
    "def plot_cluster(years, label):\n",
    "    plt.scatter(years, years, c = label)\n",
    "    plt.xlabel('Year')\n",
    "    plt.ylabel('Year')\n",
    "    plt.axis('equal')\n",
    "    \n",
    "from pyspark.mllib.clustering import KMeans\n",
    "from pprint import pprint\n",
    "tf_idf_vec = tf_idf.map(lambda x: x[2])\n",
    "years = tf_idf.map(lambda x: x[0]).collect()\n",
    "# Test with two different clustering numbers\n",
    "n_clusters = [3, 5]\n",
    "n_col = 2\n",
    "n_row = 1\n",
    "plt.figure(figsize = (n_col * 7, n_row * 7))\n",
    "for i in range(len(n_clusters)):\n",
    "    clusters = KMeans.train(tf_idf_vec, n_clusters[i], maxIterations=50, initializationMode=\"random\")\n",
    "    label = clusters.predict(tf_idf_vec).collect()\n",
    "    plt.subplot(n_row, n_col, i+1)\n",
    "    plot_cluster(years, label)\n",
    "plt.show()"
   ]
  },
  {
   "cell_type": "code",
   "execution_count": 73,
   "metadata": {
    "collapsed": true
   },
   "outputs": [],
   "source": [
    "spark.stop()"
   ]
  },
  {
   "cell_type": "code",
   "execution_count": null,
   "metadata": {
    "collapsed": true
   },
   "outputs": [],
   "source": []
  }
 ],
 "metadata": {
  "kernelspec": {
   "display_name": "Python 2",
   "language": "python",
   "name": "python2"
  },
  "language_info": {
   "codemirror_mode": {
    "name": "ipython",
    "version": 2
   },
   "file_extension": ".py",
   "mimetype": "text/x-python",
   "name": "python",
   "nbconvert_exporter": "python",
   "pygments_lexer": "ipython2",
   "version": "2.7.12"
  }
 },
 "nbformat": 4,
 "nbformat_minor": 2
}
